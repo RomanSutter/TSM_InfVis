{
 "cells": [
  {
   "cell_type": "markdown",
   "metadata": {},
   "source": [
    "# World Happiness Index"
   ]
  },
  {
   "cell_type": "markdown",
   "metadata": {},
   "source": [
    "## preparing dataset"
   ]
  },
  {
   "cell_type": "code",
   "execution_count": null,
   "metadata": {},
   "outputs": [],
   "source": [
    "import pandas as pd\n",
    "from matplotlib import pyplot as plt\n",
    "import numpy as np\n",
    "import seaborn as sns"
   ]
  },
  {
   "cell_type": "code",
   "execution_count": null,
   "metadata": {},
   "outputs": [],
   "source": [
    "df2015 = pd.read_csv('2015.csv')\n",
    "df2016 = pd.read_csv('2016.csv')\n",
    "df2017 = pd.read_csv('2017.csv')\n",
    "df2018 = pd.read_csv('2018.csv')\n",
    "df2019 = pd.read_csv('2019.csv')\n",
    "\n",
    "df2015.drop(['Standard Error', 'Dystopia Residual'],axis=1,inplace=True)\n",
    "df2015.rename(columns = {'Economy (GDP per Capita)':'GDP per capita', 'Family':'Social Support', 'Health (Life Expectancy)':'Healthy life expectancy', 'Trust (Government Corruption)':'Perceptions of corruption'}, inplace = True)\n",
    "#get all regions and proper column order for later on\n",
    "country_region = df2015[['Country', 'Region']].copy()\n",
    "cols = df2015.columns.tolist()\n",
    "\n",
    "df2016.drop(['Lower Confidence Interval', 'Upper Confidence Interval', 'Dystopia Residual'],axis=1,inplace=True)\n",
    "df2016.rename(columns = {'Economy (GDP per Capita)':'GDP per capita', 'Family':'Social Support', 'Health (Life Expectancy)':'Healthy life expectancy', 'Trust (Government Corruption)':'Perceptions of corruption' }, inplace = True)\n",
    "\n",
    "df2017.drop(['Whisker.high', 'Whisker.low', 'Dystopia.Residual'],axis=1,inplace=True)\n",
    "df2017.rename(columns = {'Happiness.Rank':'Happiness Rank', 'Happiness.Score':'Happiness Score', 'Economy..GDP.per.Capita.':'GDP per capita', 'Family': 'Social Support', 'Health..Life.Expectancy.': 'Healthy life expectancy', 'Trust..Government.Corruption.': 'Perceptions of corruption'},inplace=True)\n",
    "df2017 = df2017.merge(country_region, on='Country') #add the missing region for year 2019\n",
    "df2017 = df2017[cols] #sort columns\n",
    "\n",
    "df2018.rename(columns = {'Overall rank':'Happiness Rank', 'Country or region':'Country', 'Social support':'Social Support', 'Freedom to make life choices':'Freedom', 'Score':'Happiness Score'},inplace=True)\n",
    "df2018 = df2018.merge(country_region, on='Country') #add the missing region for year 2019\n",
    "df2018 = df2018[cols] #sort columns\n",
    "\n",
    "df2019.rename(columns = {'Overall rank':'Happiness Rank', 'Country or region':'Country', 'Social support':'Social Support', 'Freedom to make life choices':'Freedom', 'Score':'Happiness Score'},inplace=True)\n",
    "df2019 = df2019.merge(country_region, on='Country') #add the missing region for year 2019\n",
    "df2019 = df2019[cols] #sort columns"
   ]
  },
  {
   "cell_type": "markdown",
   "metadata": {},
   "source": [
    "now all into one df"
   ]
  },
  {
   "cell_type": "code",
   "execution_count": null,
   "metadata": {},
   "outputs": [],
   "source": [
    "df2015[\"year\"] = str(2015)\n",
    "df2016[\"year\"] = str(2016)\n",
    "df2017[\"year\"] = str(2017)\n",
    "df2018[\"year\"] = str(2018)\n",
    "df2019[\"year\"] = str(2019)\n",
    "df_all = df2015.append([df2016,df2017,df2018,df2019])"
   ]
  },
  {
   "cell_type": "markdown",
   "metadata": {},
   "source": [
    "# First lets look at 2015 dataset\n",
    "\n",
    "Considered in dataset contributing to happiness, values are in relation to Dystopia, the most unhappiest place on earth\n",
    "- GDP per Capita\n",
    "- Family\n",
    "- Life Expectancy\n",
    "- Freedom\n",
    "- Generosity\n",
    "- Trust Government Corruption\n"
   ]
  },
  {
   "cell_type": "markdown",
   "metadata": {},
   "source": [
    "### Correlation: influence of seperate factors regarding Happiness Rank\n",
    "We are using a heatmap to show the correlation. We can see that Happiness is highly dependent on GDP as well as Social Support through family and Healthy life expectancy"
   ]
  },
  {
   "cell_type": "code",
   "execution_count": null,
   "metadata": {},
   "outputs": [],
   "source": [
    "corr = df2015.corr()\n",
    "corr"
   ]
  },
  {
   "cell_type": "code",
   "execution_count": null,
   "metadata": {},
   "outputs": [],
   "source": [
    "sns.heatmap(corr, annot=True, linewidths=.5, square = True, cmap = 'Blues_r');"
   ]
  },
  {
   "cell_type": "code",
   "execution_count": null,
   "metadata": {},
   "outputs": [],
   "source": [
    "mask = np.zeros_like(corr)\n",
    "\n",
    "mask[np.triu_indices_from(mask)] = True\n",
    "\n",
    "with sns.axes_style(\"white\"):\n",
    "\n",
    "    f, ax = plt.subplots(figsize=(7, 5))\n",
    "\n",
    "    ax = sns.heatmap(corr, mask = mask, annot=True, linewidths=.5, square = True, cmap = 'Blues_r')"
   ]
  },
  {
   "cell_type": "code",
   "execution_count": null,
   "metadata": {},
   "outputs": [],
   "source": [
    "fig, axes = plt.subplots(nrows=2, ncols=3, figsize=(15,10));\n",
    "\n",
    "df2015.plot.scatter(ax=axes[0,0], x = 'GDP per capita', y = 'Happiness Score');\n",
    "df2015.plot.scatter(ax=axes[0,1], x = 'Social Support', y = 'Happiness Score');\n",
    "df2015.plot.scatter(ax=axes[0,2], x = 'Healthy life expectancy', y = 'Happiness Score');\n",
    "df2015.plot.scatter(ax=axes[1,0], x = 'Freedom', y = 'Happiness Score');\n",
    "df2015.plot.scatter(ax=axes[1,1], x = 'Perceptions of corruption', y = 'Happiness Score');\n",
    "df2015.plot.scatter(ax=axes[1,2], x = 'Generosity', y = 'Happiness Score');\n"
   ]
  },
  {
   "cell_type": "markdown",
   "metadata": {},
   "source": [
    "This also shows, how gdp and social support attribute the most to the happiness factor while generosity and preception of corruption show least correlation to felt happiness.\n",
    "Let's use Scatterplot series to look at correlation in the year 2015"
   ]
  },
  {
   "cell_type": "code",
   "execution_count": null,
   "metadata": {},
   "outputs": [],
   "source": [
    "sns.relplot(x=\"Freedom\", y=\"Happiness Score\", hue=\"Happiness Rank\", data=df2015);"
   ]
  },
  {
   "cell_type": "markdown",
   "metadata": {},
   "source": [
    "Let's show all attributes development from year 2015 to 2019"
   ]
  },
  {
   "cell_type": "code",
   "execution_count": null,
   "metadata": {},
   "outputs": [],
   "source": [
    "sns.relplot(data=df_all, x=\"GDP per capita\", y=\"Happiness Score\", hue=\"Happiness Rank\", col=\"year\");\n",
    "sns.relplot(data=df_all, x=\"Social Support\", y=\"Happiness Score\", hue=\"Happiness Rank\", col=\"year\");\n",
    "sns.relplot(data=df_all, x=\"Healthy life expectancy\", y=\"Happiness Score\", hue=\"Happiness Rank\", col=\"year\");\n",
    "sns.relplot(data=df_all, x=\"Freedom\", y=\"Happiness Score\", hue=\"Happiness Rank\", col=\"year\");\n",
    "sns.relplot(data=df_all, x=\"Perceptions of corruption\", y=\"Happiness Score\", hue=\"Happiness Rank\", col=\"year\");\n",
    "sns.relplot(data=df_all, x=\"Generosity\", y=\"Happiness Score\", hue=\"Happiness Rank\", col=\"year\");"
   ]
  },
  {
   "cell_type": "markdown",
   "metadata": {},
   "source": [
    "## Mean values of top10 countries, bottom10 countries and regions"
   ]
  },
  {
   "cell_type": "code",
   "execution_count": null,
   "metadata": {},
   "outputs": [],
   "source": [
    "location_mean_byregion = df2015.groupby(\"Region\").mean()\n",
    "print(location_mean_byregion)"
   ]
  },
  {
   "cell_type": "code",
   "execution_count": null,
   "metadata": {},
   "outputs": [],
   "source": [
    "fig = plt.gcf()\n",
    "fig.set_size_inches(30, 8)\n",
    "\n",
    "sns.violinplot(x=\"Region\", y=\"Happiness Rank\", data=df2015)\n",
    "\n",
    "plt.show()"
   ]
  },
  {
   "cell_type": "markdown",
   "metadata": {},
   "source": [
    "Australia and New Zealand obviously is only 2 countries, but we can see that Western Europe is mainly happy, in the middle east the band is pretty wide and in Sub Saharan Africa aswell as Southern Asia Happiness is mainly in the bottom part of the rank."
   ]
  },
  {
   "cell_type": "markdown",
   "metadata": {},
   "source": [
    "### Top 10 Countries from 2015 next to each other regarding different attributes using stacked bar charts"
   ]
  },
  {
   "cell_type": "code",
   "execution_count": null,
   "metadata": {},
   "outputs": [],
   "source": [
    "df2015_top10 = df2015.head(10)\n",
    "df2015_top10.drop(['Happiness Rank'],axis=1,inplace=True)"
   ]
  },
  {
   "cell_type": "code",
   "execution_count": null,
   "metadata": {},
   "outputs": [],
   "source": [
    "df2015_top10"
   ]
  },
  {
   "cell_type": "code",
   "execution_count": null,
   "metadata": {},
   "outputs": [],
   "source": [
    "ax = df2015_top10.plot(y=\"Social Support\", x=\"Country\", kind=\"bar\",color='C3')\n",
    "df2015_top10.plot(y=\"GDP per capita\", x=\"Country\", kind=\"bar\", ax=ax, color=\"C1\")\n",
    "df2015_top10.plot(y=\"Healthy life expectancy\", x=\"Country\", kind=\"bar\", ax=ax, color=\"C2\")\n",
    "\n",
    "plt.show()"
   ]
  },
  {
   "cell_type": "markdown",
   "metadata": {},
   "source": [
    "### Top10 next to Bottom10 countries for each seperate attribute in 2015"
   ]
  },
  {
   "cell_type": "code",
   "execution_count": null,
   "metadata": {},
   "outputs": [],
   "source": [
    "gdp_top10 = df2015.sort_values('GDP per capita', ascending = False).head(10)\n",
    "gdp_bottom10 = df2015.sort_values('GDP per capita', ascending = True).head(10)\n",
    "\n",
    "social_top10 = df2015.sort_values('Social Support', ascending = False).head(10)\n",
    "social_bottom10 = df2015.sort_values('Social Support', ascending = True).head(10)\n",
    "\n",
    "life_top10 = df2015.sort_values('Healthy life expectancy', ascending = False).head(10)\n",
    "life_bottom10 = df2015.sort_values('Healthy life expectancy', ascending = True).head(10)\n",
    "\n",
    "freedom_top10 = df2015.sort_values('Freedom', ascending = False).head(10)\n",
    "freedom_bottom10 = df2015.sort_values('Freedom', ascending = True).head(10)\n",
    "\n",
    "corruption_top10 = df2015.sort_values('Perceptions of corruption', ascending = False).head(10)\n",
    "corruption_bottom10 = df2015.sort_values('Perceptions of corruption', ascending = True).head(10)\n",
    "\n",
    "generosity_top10 = df2015.sort_values('Generosity', ascending = False).head(10)\n",
    "generosity_bottom10 = df2015.sort_values('Generosity', ascending = True).head(10)"
   ]
  },
  {
   "cell_type": "code",
   "execution_count": null,
   "metadata": {},
   "outputs": [],
   "source": [
    "fig, axes = plt.subplots(nrows=3, ncols=4, constrained_layout=True, figsize=(12,8))\n",
    "\n",
    "sns.barplot(x='GDP per capita',y='Country',data=gdp_top10, ax=axes[0,0], color='b')\n",
    "sns.barplot(x='GDP per capita' ,y='Country',data=gdp_bottom10, ax=axes[0,1], color='b')\n",
    "\n",
    "sns.barplot(x='Social Support',y='Country',data=social_top10, ax=axes[0,2], color='g')\n",
    "sns.barplot(x='Social Support' ,y='Country',data=social_bottom10, ax=axes[0,3], color='g')\n",
    "\n",
    "sns.barplot(x='Healthy life expectancy',y='Country',data=life_top10, ax=axes[1,0], color='b')\n",
    "sns.barplot(x='Healthy life expectancy' ,y='Country',data=life_bottom10, ax=axes[1,1], color='b')\n",
    "\n",
    "sns.barplot(x='Freedom',y='Country',data=freedom_top10, ax=axes[1,2], color='g')\n",
    "sns.barplot(x='Freedom' ,y='Country',data=freedom_bottom10, ax=axes[1,3], color='g')\n",
    "\n",
    "sns.barplot(x='Perceptions of corruption',y='Country',data=corruption_top10, ax=axes[2,0], color='b')\n",
    "sns.barplot(x='Perceptions of corruption' ,y='Country',data=corruption_bottom10, ax=axes[2,1], color='b')\n",
    "\n",
    "sns.barplot(x='Generosity',y='Country',data=generosity_top10, ax=axes[2,2], color='g')\n",
    "sns.barplot(x='Generosity' ,y='Country',data=generosity_bottom10, ax=axes[2,3], color='g')"
   ]
  },
  {
   "cell_type": "code",
   "execution_count": null,
   "metadata": {},
   "outputs": [],
   "source": [
    "x = range(10) #list elements 0 to 9\n",
    "\n",
    "fig, ax = plt.subplots(nrows=3, ncols=4, figsize=(15,10));\n",
    "fig.tight_layout(pad=3)\n",
    "\n",
    "ax[0][0].barh(x, gdp_top10.Generosity)\n",
    "ax[0][0].set_title('Top 10 countries GDP per Capita')\n",
    "ax[0][0].set_yticklabels(gdp_top10.Country)\n",
    "ax[0][1].barh(x, gdp_bottom10.Generosity)\n",
    "ax[0][1].set_title('Bottom 10 countries GDP per Capita')\n",
    "ax[0][1].set_yticklabels(gdp_bottom10.Country)\n",
    "\n",
    "ax[0][2].barh(x, social_top10['Social Support'])\n",
    "ax[0][2].set_title('Top 10 countries Social Support')\n",
    "ax[0][2].set_yticklabels(social_top10.Country)\n",
    "ax[0][3].barh(x, social_bottom10['Social Support'])\n",
    "ax[0][3].set_title('Bottom 10 countries Social Support')\n",
    "ax[0][3].set_yticklabels(social_bottom10.Country)\n",
    "\n",
    "ax[1][0].barh(x, life_top10['Healthy life expectancy'])\n",
    "ax[1][0].set_title('Top 10 countries Healthy life expectancy')\n",
    "ax[1][0].set_yticklabels(life_top10.Country)\n",
    "ax[1][1].barh(x, life_bottom10['Healthy life expectancy'])\n",
    "ax[1][1].set_title('Bottom 10 countries Healthy life expectancy')\n",
    "ax[1][1].set_yticklabels(life_bottom10.Country)\n",
    "\n",
    "ax[1][2].barh(x, freedom_top10['Freedom'])\n",
    "ax[1][2].set_title('Top 10 countries Freedom')\n",
    "ax[1][2].set_yticklabels(freedom_top10.Country)\n",
    "ax[1][3].barh(x, freedom_bottom10['Freedom'])\n",
    "ax[1][3].set_title('Bottom 10 countries Freedom')\n",
    "ax[1][3].set_yticklabels(freedom_bottom10.Country)\n",
    "\n",
    "ax[2][0].barh(x, generosity_top10['Generosity'])\n",
    "ax[2][0].set_title('Top 10 countries Generosity')\n",
    "ax[2][0].set_yticklabels(generosity_top10.Country)\n",
    "ax[2][1].barh(x, generosity_bottom10['Generosity'])\n",
    "ax[2][1].set_title('Bottom 10 countries Generosity')\n",
    "ax[2][1].set_yticklabels(generosity_bottom10.Country)\n",
    "\n",
    "ax[2][2].barh(x, corruption_top10['Perceptions of corruption'])\n",
    "ax[2][2].set_title('Top 10 countries Corruption')\n",
    "ax[2][2].set_yticklabels(corruption_top10.Country)\n",
    "ax[2][3].barh(x, corruption_bottom10['Perceptions of corruption'])\n",
    "ax[2][3].set_title('Bottom 10 countries Corruption')\n",
    "ax[2][3].set_yticklabels(corruption_bottom10.Country)\n",
    "\n",
    "plt.show();"
   ]
  },
  {
   "cell_type": "markdown",
   "metadata": {},
   "source": [
    "### Development of top10 countries from 2015 over time from 2015 - 2019 regarding rank and factors"
   ]
  },
  {
   "cell_type": "code",
   "execution_count": null,
   "metadata": {},
   "outputs": [],
   "source": [
    "#line chart time series small multiples"
   ]
  },
  {
   "cell_type": "markdown",
   "metadata": {},
   "source": [
    "## Maps\n",
    "### global"
   ]
  },
  {
   "cell_type": "code",
   "execution_count": null,
   "metadata": {},
   "outputs": [],
   "source": [
    "import plotly.express as px\n",
    "\n",
    "fig = px.choropleth(df_all, locationmode = 'country names', locations=\"Country\",\n",
    "                    color=\"Happiness Rank\",\n",
    "                    hover_name=\"Country\",\n",
    "                    animation_frame=\"year\",\n",
    "                    color_continuous_scale=px.colors.sequential.Plasma)\n",
    "fig.show()"
   ]
  },
  {
   "cell_type": "markdown",
   "metadata": {},
   "source": [
    "# Regional exploration"
   ]
  },
  {
   "cell_type": "code",
   "execution_count": null,
   "metadata": {},
   "outputs": [],
   "source": [
    "set(df_all.Region)"
   ]
  },
  {
   "cell_type": "code",
   "execution_count": null,
   "metadata": {},
   "outputs": [],
   "source": [
    "df_all_oceania = df_all[df_all.Region == 'Australia and New Zealand']\n",
    "df_all_EuropeCentralEast = df_all[df_all.Region == 'Central and Eastern Europe']\n",
    "df_all_EuropeWestern = df_all[df_all.Region == 'Australia and New Zealand']\n",
    "df_all_AmericaSouth = df_all[df_all.Region == 'Latin America and Caribbean']\n",
    "df_all_AmericaNorth = df_all[df_all.Region == 'North America']\n",
    "df_all_AfricaMiddleEastNorth = df_all[df_all.Region == 'Middle East and Northern Africa']\n",
    "df_all_AfricaSubSahara = df_all[df_all.Region == 'Sub-Saharan Africa']\n",
    "df_all_AsiaEast = df_all[df_all.Region == 'Eastern Asia']\n",
    "df_all_AsiaSouthEast = df_all[df_all.Region == 'Southeastern Asia']\n",
    "df_all_AsiaSouth = df_all[df_all.Region == 'Southern Asia']"
   ]
  },
  {
   "cell_type": "code",
   "execution_count": null,
   "metadata": {},
   "outputs": [],
   "source": [
    "df_all_oceania['Freedom'].mean()"
   ]
  },
  {
   "cell_type": "markdown",
   "metadata": {},
   "source": [
    "Happiness ratio per region in year 2015"
   ]
  },
  {
   "cell_type": "code",
   "execution_count": null,
   "metadata": {},
   "outputs": [],
   "source": [
    "region_lists=list(df2015['Region'].unique())\n",
    "region_happiness_ratio=[]\n",
    "for each in region_lists:\n",
    "    region=df2015[df2015['Region']==each]\n",
    "    region_happiness_rate=sum(region['Happiness Score']/len(region))\n",
    "    region_happiness_ratio.append(region_happiness_rate)\n",
    "    \n",
    "data=pd.DataFrame({'region':region_lists,'region happiness ratio':region_happiness_ratio})\n",
    "new_index=(data['region_happiness_ratio'].sort_values(ascending=False)).index.values\n",
    "sorted_data = data.reindex(new_index)\n",
    "\n",
    "sorted_data"
   ]
  },
  {
   "cell_type": "code",
   "execution_count": null,
   "metadata": {},
   "outputs": [],
   "source": [
    "plt.figure(figsize=(8,5))\n",
    "sns.barplot(x=sorted_data['region'], y=sorted_data['region_happiness_ratio'],palette=sns.cubehelix_palette(len(sorted_data['region'])))\n",
    "plt.xticks(rotation= 90)\n",
    "plt.xlabel('Region')\n",
    "plt.ylabel('Region Happiness Ratio')\n",
    "plt.title('Happiness rate for regions')\n",
    "plt.show()"
   ]
  },
  {
   "cell_type": "markdown",
   "metadata": {},
   "source": [
    "### Map visualization development of happiness rank from 2015-2019 per country"
   ]
  },
  {
   "cell_type": "code",
   "execution_count": null,
   "metadata": {},
   "outputs": [],
   "source": [
    "fig = px.choropleth(df_all, locationmode = 'country names', locations=\"Country\",\n",
    "                    color=\"Happiness Rank\",\n",
    "                    hover_name=\"Country\",\n",
    "                    animation_frame=\"year\",\n",
    "                    scope=\"north america\",\n",
    "                    color_continuous_scale=px.colors.sequential.Plasma)\n",
    "fig.show()"
   ]
  },
  {
   "cell_type": "code",
   "execution_count": null,
   "metadata": {},
   "outputs": [],
   "source": [
    "fig = px.choropleth(df_all, locationmode = 'country names', locations=\"Country\",\n",
    "                    color=\"Happiness Rank\",\n",
    "                    hover_name=\"Country\",\n",
    "                    animation_frame=\"year\",\n",
    "                    scope=\"europe\",\n",
    "                    color_continuous_scale=px.colors.sequential.Plasma)\n",
    "fig.show()"
   ]
  },
  {
   "cell_type": "code",
   "execution_count": null,
   "metadata": {},
   "outputs": [],
   "source": [
    "fig = px.choropleth(df_all, locationmode = 'country names', locations=\"Country\",\n",
    "                    color=\"Happiness Rank\",\n",
    "                    hover_name=\"Country\",\n",
    "                    animation_frame=\"year\",\n",
    "                    scope=\"asia\",\n",
    "                    color_continuous_scale=px.colors.sequential.Plasma)\n",
    "fig.show()"
   ]
  },
  {
   "cell_type": "code",
   "execution_count": null,
   "metadata": {},
   "outputs": [],
   "source": [
    "fig = px.choropleth(df_all, locationmode = 'country names', locations=\"Country\",\n",
    "                    color=\"Happiness Rank\",\n",
    "                    hover_name=\"Country\",\n",
    "                    animation_frame=\"year\",\n",
    "                    scope=\"africa\",\n",
    "                    color_continuous_scale=px.colors.sequential.Plasma)\n",
    "fig.show()"
   ]
  },
  {
   "cell_type": "code",
   "execution_count": null,
   "metadata": {},
   "outputs": [],
   "source": [
    "fig = px.choropleth(df_all, locationmode = 'country names', locations=\"Country\",\n",
    "                    color=\"Happiness Rank\",\n",
    "                    hover_name=\"Country\",\n",
    "                    animation_frame=\"year\",\n",
    "                    scope=\"south america\",\n",
    "                    color_continuous_scale=px.colors.sequential.Plasma)\n",
    "fig.show()"
   ]
  },
  {
   "cell_type": "markdown",
   "metadata": {},
   "source": [
    "# Development of Switzerland from 2015-2019"
   ]
  },
  {
   "cell_type": "code",
   "execution_count": null,
   "metadata": {},
   "outputs": [],
   "source": [
    "column = df_all[df_all.Country == 'Switzerland']\n",
    "column"
   ]
  },
  {
   "cell_type": "code",
   "execution_count": null,
   "metadata": {},
   "outputs": [],
   "source": []
  }
 ],
 "metadata": {
  "kernelspec": {
   "display_name": "Python 3",
   "language": "python",
   "name": "python3"
  },
  "language_info": {
   "codemirror_mode": {
    "name": "ipython",
    "version": 3
   },
   "file_extension": ".py",
   "mimetype": "text/x-python",
   "name": "python",
   "nbconvert_exporter": "python",
   "pygments_lexer": "ipython3",
   "version": "3.8.3"
  }
 },
 "nbformat": 4,
 "nbformat_minor": 4
}
