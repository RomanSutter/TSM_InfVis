{
 "cells": [
  {
   "cell_type": "markdown",
   "metadata": {},
   "source": [
    "# World Happiness Index"
   ]
  },
  {
   "cell_type": "markdown",
   "metadata": {},
   "source": [
    "## preparing dataset"
   ]
  },
  {
   "cell_type": "code",
   "execution_count": null,
   "metadata": {},
   "outputs": [],
   "source": [
    "import pandas as pd\n",
    "from matplotlib import pyplot as plt\n",
    "import numpy as np\n",
    "import seaborn as sns"
   ]
  },
  {
   "cell_type": "code",
   "execution_count": null,
   "metadata": {},
   "outputs": [],
   "source": [
    "df2015 = pd.read_csv('2015.csv')\n",
    "df2016 = pd.read_csv('2016.csv')\n",
    "df2017 = pd.read_csv('2017.csv')\n",
    "df2018 = pd.read_csv('2018.csv')\n",
    "df2019 = pd.read_csv('2019.csv')\n",
    "\n",
    "df2015.drop(['Standard Error', 'Dystopia Residual'],axis=1,inplace=True)\n",
    "df2015.rename(columns = {'Economy (GDP per Capita)':'GDP_per_capita', 'Happiness Rank':'Happiness_Rank', 'Happiness Score':'Happiness_Score', 'Family':'Social_Support', 'Health (Life Expectancy)':'Life_Expectancy', 'Trust (Government Corruption)':'Corruption'}, inplace = True)\n",
    "#get all regions and proper column order for later on\n",
    "country_region = df2015[['Country', 'Region']].copy()\n",
    "cols = df2015.columns.tolist()\n",
    "\n",
    "df2016.drop(['Lower Confidence Interval', 'Upper Confidence Interval', 'Dystopia Residual'],axis=1,inplace=True)\n",
    "df2016.rename(columns = {'Economy (GDP per Capita)':'GDP_per_capita', 'Happiness Rank':'Happiness_Rank', 'Happiness Score':'Happiness_Score', 'Family':'Social_Support', 'Health (Life Expectancy)':'Life_Expectancy', 'Trust (Government Corruption)':'Corruption' }, inplace = True)\n",
    "\n",
    "df2017.drop(['Whisker.high', 'Whisker.low', 'Dystopia.Residual'],axis=1,inplace=True)\n",
    "df2017.rename(columns = {'Happiness.Rank':'Happiness_Rank', 'Happiness.Score':'Happiness_Score', 'Economy..GDP.per.Capita.':'GDP_per_capita', 'Family': 'Social_Support', 'Health..Life.Expectancy.': 'Life_Expectancy', 'Trust..Government.Corruption.': 'Corruption'},inplace=True)\n",
    "df2017 = df2017.merge(country_region, on='Country') #add the missing region for year 2019\n",
    "df2017 = df2017[cols] #sort columns\n",
    "\n",
    "df2018.rename(columns = {'Overall rank':'Happiness_Rank', 'Country or region':'Country', 'GDP per capita':'GDP_per_capita', 'Healthy life expectancy':'Life_Expectancy', 'Perceptions of corruption':'Corruption', 'Social support':'Social_Support', 'Freedom to make life choices':'Freedom', 'Score':'Happiness_Score'},inplace=True)\n",
    "df2018 = df2018.merge(country_region, on='Country') #add the missing region for year 2019\n",
    "df2018 = df2018[cols] #sort columns\n",
    "\n",
    "df2019.rename(columns = {'Overall rank':'Happiness_Rank', 'Country or region':'Country', 'GDP per capita':'GDP_per_capita', 'Healthy life expectancy':'Life_Expectancy', 'Perceptions of corruption':'Corruption',  'Social support':'Social_Support', 'Freedom to make life choices':'Freedom', 'Score':'Happiness_Score'},inplace=True)\n",
    "df2019 = df2019.merge(country_region, on='Country') #add the missing region for year 2019\n",
    "df2019 = df2019[cols] #sort columns"
   ]
  },
  {
   "cell_type": "markdown",
   "metadata": {},
   "source": [
    "now all into one df"
   ]
  },
  {
   "cell_type": "code",
   "execution_count": null,
   "metadata": {},
   "outputs": [],
   "source": [
    "df2015[\"year\"] = str(2015)\n",
    "df2016[\"year\"] = str(2016)\n",
    "df2017[\"year\"] = str(2017)\n",
    "df2018[\"year\"] = str(2018)\n",
    "df2019[\"year\"] = str(2019)\n",
    "df_all = df2015.append([df2016,df2017,df2018,df2019])"
   ]
  },
  {
   "cell_type": "markdown",
   "metadata": {},
   "source": [
    "# First lets look at correlation between happiness & the specific attributes\n",
    "\n",
    "Considered in dataset contributing to happiness, values are in relation to Dystopia, the most unhappiest place on earth\n",
    "- GDP per Capita\n",
    "- Family\n",
    "- Life Expectancy\n",
    "- Freedom\n",
    "- Generosity\n",
    "- Trust Government Corruption\n"
   ]
  },
  {
   "cell_type": "markdown",
   "metadata": {},
   "source": [
    "### Correlation: influence of seperate factors regarding Happiness Rank\n",
    "We are using a heatmap to show the correlation."
   ]
  },
  {
   "cell_type": "markdown",
   "metadata": {},
   "source": [
    "### Year 2015"
   ]
  },
  {
   "cell_type": "code",
   "execution_count": null,
   "metadata": {},
   "outputs": [],
   "source": [
    "corr2015 = df2015.corr()\n",
    "corr2015"
   ]
  },
  {
   "cell_type": "code",
   "execution_count": null,
   "metadata": {},
   "outputs": [],
   "source": [
    "sns.heatmap(corr2015, annot=True, linewidths=.5, square = True, cmap = 'Blues_r');"
   ]
  },
  {
   "cell_type": "code",
   "execution_count": null,
   "metadata": {},
   "outputs": [],
   "source": [
    "mask = np.zeros_like(corr2015)\n",
    "\n",
    "mask[np.triu_indices_from(mask)] = True\n",
    "\n",
    "with sns.axes_style(\"white\"):\n",
    "\n",
    "    f, ax = plt.subplots(figsize=(7, 5))\n",
    "\n",
    "    ax = sns.heatmap(corr2015, mask = mask, annot=True, linewidths=.5, square = True, cmap = 'Blues_r')"
   ]
  },
  {
   "cell_type": "markdown",
   "metadata": {},
   "source": [
    "Conclusion: We can see that Happiness is highly dependent on GDP as well as Social Support through family and Healthy life expectancy"
   ]
  },
  {
   "cell_type": "code",
   "execution_count": null,
   "metadata": {},
   "outputs": [],
   "source": [
    "fig, axes = plt.subplots(nrows=2, ncols=3, figsize=(15,10));\n",
    "\n",
    "df2015.plot.scatter(ax=axes[0,0], x = 'GDP_per_capita', y = 'Happiness_Score');\n",
    "df2015.plot.scatter(ax=axes[0,1], x = 'Social_Support', y = 'Happiness_Score');\n",
    "df2015.plot.scatter(ax=axes[0,2], x = 'Life_Expectancy', y = 'Happiness_Score');\n",
    "df2015.plot.scatter(ax=axes[1,0], x = 'Freedom', y = 'Happiness_Score');\n",
    "df2015.plot.scatter(ax=axes[1,1], x = 'Corruption', y = 'Happiness_Score');\n",
    "df2015.plot.scatter(ax=axes[1,2], x = 'Generosity', y = 'Happiness_Score');\n"
   ]
  },
  {
   "cell_type": "markdown",
   "metadata": {},
   "source": [
    "This also shows, how gdp and social support attribute the most to the happiness factor while generosity and preception of corruption show least correlation to felt happiness.\n",
    "Let's use Scatterplot series to look at correlation in the year 2015"
   ]
  },
  {
   "cell_type": "code",
   "execution_count": null,
   "metadata": {},
   "outputs": [],
   "source": [
    "sns.relplot(x=\"Freedom\", y=\"Happiness_Score\", hue=\"Happiness_Rank\", data=df2015);"
   ]
  },
  {
   "cell_type": "markdown",
   "metadata": {},
   "source": [
    "### Change in correlation from 2015-2019 <br>\n",
    "Does correlation change over the years and are other factors more important than others in 2019? <br>\n",
    "Correlation in general:"
   ]
  },
  {
   "cell_type": "code",
   "execution_count": null,
   "metadata": {},
   "outputs": [],
   "source": [
    "corr2019 = df2019.corr()\n",
    "corr2015 = df2015.corr()"
   ]
  },
  {
   "cell_type": "code",
   "execution_count": null,
   "metadata": {},
   "outputs": [],
   "source": [
    "mask = np.zeros_like(corr2015)\n",
    "\n",
    "mask[np.triu_indices_from(mask)] = True\n",
    "\n",
    "with sns.axes_style(\"white\"):\n",
    "\n",
    "    f, ax = plt.subplots()\n",
    "\n",
    "    ax = sns.heatmap(corr2015, mask = mask, annot=True, linewidths=.5, square = True, cmap = 'Blues_r')"
   ]
  },
  {
   "cell_type": "code",
   "execution_count": null,
   "metadata": {},
   "outputs": [],
   "source": [
    "mask = np.zeros_like(corr2019)\n",
    "\n",
    "mask[np.triu_indices_from(mask)] = True\n",
    "\n",
    "with sns.axes_style(\"white\"):\n",
    "\n",
    "    f, ax = plt.subplots()\n",
    "\n",
    "    ax = sns.heatmap(corr2019, mask = mask, annot=True, linewidths=.5, square = True, cmap = 'Blues_r')"
   ]
  },
  {
   "cell_type": "markdown",
   "metadata": {},
   "source": [
    "And in more detail specific development of attributes over time from year 2015 to 2019"
   ]
  },
  {
   "cell_type": "code",
   "execution_count": null,
   "metadata": {},
   "outputs": [],
   "source": [
    "sns.relplot(data=df_all, x=\"GDP_per_capita\", y=\"Happiness_Score\", hue=\"Happiness_Rank\", col=\"year\");\n",
    "sns.relplot(data=df_all, x=\"Social_Support\", y=\"Happiness_Score\", hue=\"Happiness_Rank\", col=\"year\");\n",
    "sns.relplot(data=df_all, x=\"Life_Expectancy\", y=\"Happiness_Score\", hue=\"Happiness_Rank\", col=\"year\");\n",
    "sns.relplot(data=df_all, x=\"Freedom\", y=\"Happiness_Score\", hue=\"Happiness_Rank\", col=\"year\");\n",
    "sns.relplot(data=df_all, x=\"Corruption\", y=\"Happiness_Score\", hue=\"Happiness_Rank\", col=\"year\");\n",
    "sns.relplot(data=df_all, x=\"Generosity\", y=\"Happiness_Score\", hue=\"Happiness_Rank\", col=\"year\");"
   ]
  },
  {
   "cell_type": "markdown",
   "metadata": {},
   "source": [
    "Conclusion: Therefore we can see that correlation in 2015 and 2019 is still depending on the same attributes, mainly GDP, social support aswell as life expectancy and less on corruption or generosity."
   ]
  },
  {
   "cell_type": "markdown",
   "metadata": {},
   "source": [
    "## Mean values of top10 countries, bottom10 countries and regions in year 2015"
   ]
  },
  {
   "cell_type": "code",
   "execution_count": null,
   "metadata": {
    "scrolled": false
   },
   "outputs": [],
   "source": [
    "df2015_mean_happiness = df2015.copy()\n",
    "location_mean_byregion = df2015.groupby(['Region']).mean()\n",
    "mean_happiness_scores = location_mean_byregion['Happiness_Score'].to_dict()\n",
    "df2015_mean_happiness['Mean_Happiness_Score'] = df2015_mean_happiness['Region'].map(mean_happiness_scores)"
   ]
  },
  {
   "cell_type": "markdown",
   "metadata": {},
   "source": [
    "Let's look at distribution of Happiness per region. Are there countries with only good ranks or bad ranks? Are there regions with broad spectrums from very happy to very unhappy?"
   ]
  },
  {
   "cell_type": "code",
   "execution_count": null,
   "metadata": {},
   "outputs": [],
   "source": [
    "fig = plt.gcf()\n",
    "fig.set_size_inches(30, 8)\n",
    "\n",
    "sns.violinplot(x=\"Region\", y=\"Happiness_Rank\", data=df2015)\n",
    "\n",
    "plt.show()"
   ]
  },
  {
   "cell_type": "markdown",
   "metadata": {},
   "source": [
    "Conclustion: Australia and New Zealand obviously is only 2 countries, but we can see that Western Europe is mainly happy, in the middle east the band is pretty wide and in Sub Saharan Africa aswell as Southern Asia Happiness is mainly in the bottom part of the rank."
   ]
  },
  {
   "cell_type": "markdown",
   "metadata": {},
   "source": [
    "todo: consideration to explore, would be if there are countries diverging from the mean in their respective area?"
   ]
  },
  {
   "cell_type": "markdown",
   "metadata": {},
   "source": [
    "### Top 10 Countries from 2015 next to each other regarding different attributes using stacked bar charts <br>\n",
    "Therefore we focus now mainly on year 2015. And evaluate the seperate attributes. Are there differences in the top 10 most happiest countries in the world? Does one country derive its happiness more from generosity compared to others?"
   ]
  },
  {
   "cell_type": "code",
   "execution_count": null,
   "metadata": {},
   "outputs": [],
   "source": [
    "df2015_top10 = df2015.head(10)\n",
    "df2015_top10.drop(['Happiness_Rank'],axis=1,inplace=True)"
   ]
  },
  {
   "cell_type": "code",
   "execution_count": null,
   "metadata": {},
   "outputs": [],
   "source": [
    "df2015_top10"
   ]
  },
  {
   "cell_type": "markdown",
   "metadata": {},
   "source": [
    "### Development of top10 countries from 2015 over time from 2015 - 2019 regarding rank and factors"
   ]
  },
  {
   "cell_type": "code",
   "execution_count": null,
   "metadata": {},
   "outputs": [],
   "source": [
    "#line chart time series small multiples"
   ]
  },
  {
   "cell_type": "markdown",
   "metadata": {},
   "source": [
    "## Maps\n",
    "### global\n",
    "Let's get an overview by looking at a world map to visualize the distribution of happiness around the world and the development and changes from 2015-2019."
   ]
  },
  {
   "cell_type": "code",
   "execution_count": null,
   "metadata": {
    "scrolled": false
   },
   "outputs": [],
   "source": [
    "import plotly.express as px\n",
    "\n",
    "fig = px.choropleth(df_all, locationmode = 'country names', locations=\"Country\",\n",
    "                    color=\"Happiness_Rank\",\n",
    "                    hover_name=\"Country\",\n",
    "                    animation_frame=\"year\",\n",
    "                    color_continuous_scale=px.colors.sequential.Plasma)\n",
    "fig.show()"
   ]
  },
  {
   "cell_type": "markdown",
   "metadata": {},
   "source": [
    "### Regional Averages for 2015"
   ]
  },
  {
   "cell_type": "code",
   "execution_count": null,
   "metadata": {},
   "outputs": [],
   "source": [
    "fig = px.choropleth(df2015_mean_happiness, locationmode = 'country names', locations=\"Country\",\n",
    "                    color=\"Mean_Happiness_Score\",\n",
    "                    hover_name=\"Region\",\n",
    "                    animation_frame=\"year\",\n",
    "                    color_continuous_scale=px.colors.sequential.Plasma)\n",
    "fig.show()"
   ]
  },
  {
   "cell_type": "markdown",
   "metadata": {},
   "source": [
    "Based on the analysis of just the mean values for each region, the expected result of an overall happy North America, Australia and Western Europe can be seen clearly. Additionally, the Latin America and Carribean region is happier on average than all of Asia and Africa. Sub-Saharan Africa is on average the unhappiest place, followed closely by Southern Asia, where India, Pakistan and Afghanistan are."
   ]
  },
  {
   "cell_type": "markdown",
   "metadata": {},
   "source": [
    "# Regional exploration"
   ]
  },
  {
   "cell_type": "code",
   "execution_count": null,
   "metadata": {},
   "outputs": [],
   "source": [
    "set(df_all.Region)"
   ]
  },
  {
   "cell_type": "code",
   "execution_count": null,
   "metadata": {},
   "outputs": [],
   "source": [
    "df_all_oceania = df_all[df_all.Region == 'Australia and New Zealand']\n",
    "df_all_EuropeCentralEast = df_all[df_all.Region == 'Central and Eastern Europe']\n",
    "df_all_EuropeWestern = df_all[df_all.Region == 'Australia and New Zealand']\n",
    "df_all_AmericaSouth = df_all[df_all.Region == 'Latin America and Caribbean']\n",
    "df_all_AmericaNorth = df_all[df_all.Region == 'North America']\n",
    "df_all_AfricaMiddleEastNorth = df_all[df_all.Region == 'Middle East and Northern Africa']\n",
    "df_all_AfricaSubSahara = df_all[df_all.Region == 'Sub-Saharan Africa']\n",
    "df_all_AsiaEast = df_all[df_all.Region == 'Eastern Asia']\n",
    "df_all_AsiaSouthEast = df_all[df_all.Region == 'Southeastern Asia']\n",
    "df_all_AsiaSouth = df_all[df_all.Region == 'Southern Asia']"
   ]
  },
  {
   "cell_type": "markdown",
   "metadata": {},
   "source": [
    "#### Happiness ratio per region aswell as mean value per attribute per region"
   ]
  },
  {
   "cell_type": "code",
   "execution_count": null,
   "metadata": {},
   "outputs": [],
   "source": [
    "# todo: new df with values per region, also deviation from countries?"
   ]
  },
  {
   "cell_type": "code",
   "execution_count": null,
   "metadata": {},
   "outputs": [],
   "source": [
    "df_all_oceania.Freedom.mean()"
   ]
  },
  {
   "cell_type": "code",
   "execution_count": null,
   "metadata": {},
   "outputs": [],
   "source": [
    "df_all_EuropeCentralEast.Freedom.mean()"
   ]
  },
  {
   "cell_type": "markdown",
   "metadata": {},
   "source": [
    "Happiness ratio per region in year 2015"
   ]
  },
  {
   "cell_type": "code",
   "execution_count": null,
   "metadata": {},
   "outputs": [],
   "source": [
    "region_lists=list(df2015['Region'].unique())\n",
    "region_happiness_ratio=[]\n",
    "for each in region_lists:\n",
    "    region=df2015[df2015['Region']==each]\n",
    "    region_happiness_rate=sum(region['Happiness_Score']/len(region))\n",
    "    region_happiness_ratio.append(region_happiness_rate)\n",
    "    \n",
    "data=pd.DataFrame({'region':region_lists,'region_happiness_ratio':region_happiness_ratio})\n",
    "new_index=(data['region_happiness_ratio'].sort_values(ascending=False)).index.values\n",
    "sorted_data = data.reindex(new_index)\n",
    "\n",
    "sorted_data"
   ]
  },
  {
   "cell_type": "code",
   "execution_count": null,
   "metadata": {},
   "outputs": [],
   "source": [
    "plt.figure(figsize=(8,5))\n",
    "sns.barplot(x=sorted_data['region'], y=sorted_data['region_happiness_ratio'],palette=sns.cubehelix_palette(len(sorted_data['region'])))\n",
    "plt.xticks(rotation= 90)\n",
    "plt.xlabel('Region')\n",
    "plt.ylabel('Region Happiness Ratio')\n",
    "plt.title('Happiness rate for regions')\n",
    "plt.show()"
   ]
  },
  {
   "cell_type": "markdown",
   "metadata": {},
   "source": [
    "### Map visualization development of happiness rank from 2015-2019 per country"
   ]
  },
  {
   "cell_type": "code",
   "execution_count": null,
   "metadata": {},
   "outputs": [],
   "source": [
    "fig = px.choropleth(df_all, locationmode = 'country names', locations=\"Country\",\n",
    "                    color=\"Happiness_Rank\",\n",
    "                    hover_name=\"Country\",\n",
    "                    animation_frame=\"year\",\n",
    "                    scope=\"north america\",\n",
    "                    color_continuous_scale=px.colors.sequential.Plasma)\n",
    "fig.show()"
   ]
  },
  {
   "cell_type": "code",
   "execution_count": null,
   "metadata": {},
   "outputs": [],
   "source": [
    "fig = px.choropleth(df_all, locationmode = 'country names', locations=\"Country\",\n",
    "                    color=\"Happiness_Rank\",\n",
    "                    hover_name=\"Country\",\n",
    "                    animation_frame=\"year\",\n",
    "                    scope=\"europe\",\n",
    "                    color_continuous_scale=px.colors.sequential.Plasma)\n",
    "fig.show()"
   ]
  },
  {
   "cell_type": "code",
   "execution_count": null,
   "metadata": {},
   "outputs": [],
   "source": [
    "fig = px.choropleth(df_all, locationmode = 'country names', locations=\"Country\",\n",
    "                    color=\"Happiness_Rank\",\n",
    "                    hover_name=\"Country\",\n",
    "                    animation_frame=\"year\",\n",
    "                    scope=\"asia\",\n",
    "                    color_continuous_scale=px.colors.sequential.Plasma)\n",
    "fig.show()"
   ]
  },
  {
   "cell_type": "code",
   "execution_count": null,
   "metadata": {},
   "outputs": [],
   "source": [
    "fig = px.choropleth(df_all, locationmode = 'country names', locations=\"Country\",\n",
    "                    color=\"Happiness_Rank\",\n",
    "                    hover_name=\"Country\",\n",
    "                    animation_frame=\"year\",\n",
    "                    scope=\"africa\",\n",
    "                    color_continuous_scale=px.colors.sequential.Plasma)\n",
    "fig.show()"
   ]
  },
  {
   "cell_type": "code",
   "execution_count": null,
   "metadata": {},
   "outputs": [],
   "source": [
    "fig = px.choropleth(df_all, locationmode = 'country names', locations=\"Country\",\n",
    "                    color=\"Happiness_Rank\",\n",
    "                    hover_name=\"Country\",\n",
    "                    animation_frame=\"year\",\n",
    "                    scope=\"south america\",\n",
    "                    color_continuous_scale=px.colors.sequential.Plasma)\n",
    "fig.show()"
   ]
  },
  {
   "cell_type": "markdown",
   "metadata": {},
   "source": [
    "# Top 10 changes in happiness rank from 2015 to 2019, are there any reasons for this?"
   ]
  },
  {
   "cell_type": "markdown",
   "metadata": {},
   "source": [
    "Which country made the biggest gain or loss in Happiness Rank from 2015 to 2019."
   ]
  },
  {
   "cell_type": "code",
   "execution_count": null,
   "metadata": {},
   "outputs": [],
   "source": [
    "df2015_ranks = df2015[['Country','Happiness_Rank']]\n",
    "df2015_ranks.rename(columns = {'Happiness_Rank':'2015'}, inplace = True)\n",
    "\n",
    "df_ranks_change = df2019[['Country','Happiness_Rank']]\n",
    "df_ranks_change.rename(columns = {'Happiness_Rank':'2019'}, inplace = True)\n",
    "\n",
    "df_ranks_change = df_ranks_change.merge(df2015_ranks, on='Country')\n",
    "df_ranks_change['change']=df_ranks_change['2015']-df_ranks_change['2019']\n",
    "df_ranks_change"
   ]
  },
  {
   "cell_type": "code",
   "execution_count": null,
   "metadata": {},
   "outputs": [],
   "source": [
    "change_top10 = df_ranks_change.sort_values('change', ascending = False).head(10)\n",
    "change_bottom10 = df_ranks_change.sort_values('change', ascending = True).head(10)"
   ]
  },
  {
   "cell_type": "markdown",
   "metadata": {},
   "source": [
    "## Best performers: who jumped the most?"
   ]
  },
  {
   "cell_type": "code",
   "execution_count": null,
   "metadata": {},
   "outputs": [],
   "source": [
    "change_top10"
   ]
  },
  {
   "cell_type": "markdown",
   "metadata": {},
   "source": [
    "### Let's look at change in detail from 2015-2019 for Benin, and Honduras\n",
    "#### Benin:"
   ]
  },
  {
   "cell_type": "code",
   "execution_count": null,
   "metadata": {},
   "outputs": [],
   "source": [
    "benin = df_all[df_all.Country == 'Benin']\n",
    "benin"
   ]
  },
  {
   "cell_type": "code",
   "execution_count": null,
   "metadata": {},
   "outputs": [],
   "source": [
    "plt.plot(benin.year, benin.Happiness_Rank);\n",
    "plt.title('Development Happiness in Benin')\n",
    "plt.xlabel('year')\n",
    "plt.ylabel('Happiness Rank')\n",
    "plt.show();"
   ]
  },
  {
   "cell_type": "markdown",
   "metadata": {},
   "source": [
    "note: it looks like it is performing worse from 2015, but it is actually climbing the ranks. Maybe choose a different line graph/visualization?"
   ]
  },
  {
   "cell_type": "code",
   "execution_count": null,
   "metadata": {},
   "outputs": [],
   "source": [
    "fig, axes = plt.subplots(nrows=2, ncols=3, figsize=(11,5));\n",
    "\n",
    "benin.plot(ax=axes[0,0], x = 'year', y = 'GDP_per_capita');\n",
    "benin.plot(ax=axes[0,1], x = 'year', y = 'Social_Support');\n",
    "benin.plot(ax=axes[0,2], x = 'year', y = 'Life_Expectancy');\n",
    "benin.plot(ax=axes[1,0], x = 'year', y = 'Freedom');\n",
    "benin.plot(ax=axes[1,1], x = 'year', y = 'Corruption');\n",
    "benin.plot(ax=axes[1,2], x = 'year', y = 'Generosity');"
   ]
  },
  {
   "cell_type": "markdown",
   "metadata": {},
   "source": [
    "## Worst performers: who slipped the most?"
   ]
  },
  {
   "cell_type": "code",
   "execution_count": null,
   "metadata": {},
   "outputs": [],
   "source": [
    "change_bottom10"
   ]
  },
  {
   "cell_type": "markdown",
   "metadata": {},
   "source": [
    "There are quite heavy changes regarding happiness rank, performing the wors being Venezuela, with the country being in a long crisis."
   ]
  },
  {
   "cell_type": "markdown",
   "metadata": {},
   "source": [
    "### Let's look at change in detail from 2015-2019 for Venezuela, and Ukraine\n",
    "#### Venezuela: country crisis"
   ]
  },
  {
   "cell_type": "code",
   "execution_count": null,
   "metadata": {},
   "outputs": [],
   "source": [
    "venezuela = df_all[df_all.Country == 'Venezuela']\n",
    "venezuela"
   ]
  },
  {
   "cell_type": "code",
   "execution_count": null,
   "metadata": {},
   "outputs": [],
   "source": [
    "plt.plot(venezuela.year, venezuela.Happiness_Rank);\n",
    "plt.title('Development Happiness in Venezuela')\n",
    "plt.xlabel('year')\n",
    "plt.ylabel('Happiness Rank')\n",
    "plt.show();"
   ]
  },
  {
   "cell_type": "code",
   "execution_count": null,
   "metadata": {},
   "outputs": [],
   "source": [
    "fig, axes = plt.subplots(nrows=2, ncols=3, figsize=(11,5));\n",
    "\n",
    "venezuela.plot(ax=axes[0,0], x = 'year', y = 'GDP_per_capita');\n",
    "venezuela.plot(ax=axes[0,1], x = 'year', y = 'Social_Support');\n",
    "venezuela.plot(ax=axes[0,2], x = 'year', y = 'Life_Expectancy');\n",
    "venezuela.plot(ax=axes[1,0], x = 'year', y = 'Freedom');\n",
    "venezuela.plot(ax=axes[1,1], x = 'year', y = 'Corruption');\n",
    "venezuela.plot(ax=axes[1,2], x = 'year', y = 'Generosity');"
   ]
  },
  {
   "cell_type": "markdown",
   "metadata": {},
   "source": [
    "#### Ukraine: war"
   ]
  },
  {
   "cell_type": "code",
   "execution_count": null,
   "metadata": {},
   "outputs": [],
   "source": [
    "ukraine = df_all[df_all.Country == 'Ukraine']\n",
    "ukraine"
   ]
  },
  {
   "cell_type": "code",
   "execution_count": null,
   "metadata": {},
   "outputs": [],
   "source": [
    "plt.plot(ukraine.year, ukraine.Happiness_Rank);\n",
    "plt.title('Development Happiness in Ukraine')\n",
    "plt.xlabel('year')\n",
    "plt.ylabel('Happiness Rank')\n",
    "plt.show();"
   ]
  },
  {
   "cell_type": "code",
   "execution_count": null,
   "metadata": {},
   "outputs": [],
   "source": [
    "fig, axes = plt.subplots(nrows=2, ncols=3, figsize=(11,5));\n",
    "\n",
    "ukraine.plot(ax=axes[0,0], x = 'year', y = 'GDP_per_capita');\n",
    "ukraine.plot(ax=axes[0,1], x = 'year', y = 'Social_Support');\n",
    "ukraine.plot(ax=axes[0,2], x = 'year', y = 'Life_Expectancy');\n",
    "ukraine.plot(ax=axes[1,0], x = 'year', y = 'Freedom');\n",
    "ukraine.plot(ax=axes[1,1], x = 'year', y = 'Corruption');\n",
    "ukraine.plot(ax=axes[1,2], x = 'year', y = 'Generosity');"
   ]
  },
  {
   "cell_type": "markdown",
   "metadata": {},
   "source": [
    "# Development of Switzerland from 2015-2019"
   ]
  },
  {
   "cell_type": "code",
   "execution_count": null,
   "metadata": {},
   "outputs": [],
   "source": [
    "switzerland = df_all[df_all.Country == 'Switzerland']\n",
    "switzerland = switzerland.drop(columns=['Country', 'Region'])\n",
    "switzerland"
   ]
  },
  {
   "cell_type": "code",
   "execution_count": null,
   "metadata": {},
   "outputs": [],
   "source": [
    "#fig, axes = plt.subplots(nrows=2, ncols=2, figsize=(11,5));\n",
    "plt.figure()\n",
    "plt.plot(switzerland.year, switzerland.GDP_per_capita, label='GDP per capita')\n",
    "plt.plot(switzerland.year, switzerland.Social_Support, label='Social Support')\n",
    "plt.plot(switzerland.year, switzerland.Life_Expectancy, label='Life Expectancy')\n",
    "plt.plot(switzerland.year, switzerland.Freedom, label='Freedom')\n",
    "plt.plot(switzerland.year, switzerland.Corruption, label='Corruption')\n",
    "plt.plot(switzerland.year, switzerland.Generosity, label='Generosity')\n",
    "plt.xlabel('Year')\n",
    "plt.ylabel('Importance factor')\n",
    "plt.legend(bbox_to_anchor=(1.4,1), loc='upper right')\n",
    "plt.title('Development of Switzerland importance factors for Happiness')\n",
    "plt.show()\n",
    "\n"
   ]
  },
  {
   "cell_type": "markdown",
   "metadata": {},
   "source": [
    "### Analysis of development in Switzerland from 2015-2019\n",
    "\n",
    "The visualizations of the different factors for the happiness calculations in Switzerland between 2015 and 2019 show an estimate on the importance of these different factors for each year.  \n",
    "\n",
    "General Analysis:\n",
    "\n",
    "The two most important factors are 'GDP per capita' and 'Social Support' which makes sense for a well functioning country with a lot of socialitarian structures. \n",
    "Corruption and Generosity are a pretty low importance factor, since most of the population doesn't feel to either be suppressed by the government or has to rely on others to survive. \n",
    "\n",
    "Life Expectancy and Freedom are in between of these 4 factors and are somewhat important but are overall not threatening for most people and therefore not as important as Social Support or money itself.\n",
    "\n",
    "\n",
    "Yearly Development:\n",
    "The most unstable factor is Social Support which proves to be an important factor and rose over the years but also experienced a downfall from 2015 to 2016 (Google why)\n",
    "\n",
    "The stable income for Swiss is important and has been overall stable. Money will probably always be of importance for Switzerland and its Population.\n",
    "\n",
    "Life Expectancy is rising overall. (Why is health getting more important?)\n",
    "\n",
    "Freedom, Generosity and Corruption are almost stable and only fall off slowly. The analysis for this is that these factors didn't prove to have any negative influences over the years and therefore fall off slowly."
   ]
  },
  {
   "cell_type": "code",
   "execution_count": null,
   "metadata": {},
   "outputs": [],
   "source": []
  }
 ],
 "metadata": {
  "kernelspec": {
   "display_name": "Python 3",
   "language": "python",
   "name": "python3"
  },
  "language_info": {
   "codemirror_mode": {
    "name": "ipython",
    "version": 3
   },
   "file_extension": ".py",
   "mimetype": "text/x-python",
   "name": "python",
   "nbconvert_exporter": "python",
   "pygments_lexer": "ipython3",
   "version": "3.7.9"
  }
 },
 "nbformat": 4,
 "nbformat_minor": 4
}
